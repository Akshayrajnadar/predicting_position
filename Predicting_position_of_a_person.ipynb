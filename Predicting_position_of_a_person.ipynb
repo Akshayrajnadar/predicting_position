{
  "nbformat": 4,
  "nbformat_minor": 0,
  "metadata": {
    "colab": {
      "provenance": [],
      "gpuType": "T4",
      "authorship_tag": "ABX9TyNUpO8BWsW6NmM4FRgUabYi",
      "include_colab_link": true
    },
    "kernelspec": {
      "name": "python3",
      "display_name": "Python 3"
    },
    "language_info": {
      "name": "python"
    },
    "accelerator": "GPU",
    "gpuClass": "standard"
  },
  "cells": [
    {
      "cell_type": "markdown",
      "metadata": {
        "id": "view-in-github",
        "colab_type": "text"
      },
      "source": [
        "<a href=\"https://colab.research.google.com/github/Akshayrajnadar/predicting_position/blob/master/Predicting_position_of_a_person.ipynb\" target=\"_parent\"><img src=\"https://colab.research.google.com/assets/colab-badge.svg\" alt=\"Open In Colab\"/></a>"
      ]
    },
    {
      "cell_type": "markdown",
      "source": [
        "# Prediction position of a person\n",
        "This dataset represent a individual trial performed by a subject wearing a wireless batteryless sensor. Each trial consists of the performance of scripted ADL. The files are anonymized; however, indication of the gender of the participant is\n",
        "indicated at the end of the file name. For making the model first we are going to import all the required liabraries and then we will clean the data for further process."
      ],
      "metadata": {
        "id": "qMhq9bvDXU7n"
      }
    },
    {
      "cell_type": "code",
      "execution_count": null,
      "metadata": {
        "id": "nlIj6woRalhg"
      },
      "outputs": [],
      "source": [
        "import pandas as pd\n",
        "import numpy as np\n",
        "\n",
        "import tensorflow as tf\n",
        "from sklearn.model_selection import train_test_split\n",
        "from tensorflow.keras import datasets, models, layers\n",
        "from sklearn.preprocessing import MinMaxScaler\n",
        "import keras\n",
        "from keras.utils import np_utils\n",
        "from keras.models import Sequential\n",
        "from keras.layers import Dense, Input\n",
        "import matplotlib.pyplot as plt\n",
        "import seaborn as sns"
      ]
    },
    {
      "cell_type": "markdown",
      "source": [
        "# Import Dataset"
      ],
      "metadata": {
        "id": "P66pB6YkYQL2"
      }
    },
    {
      "cell_type": "code",
      "source": [
        "df = pd.read_csv('/content/final.csv')\n",
        "df.head()"
      ],
      "metadata": {
        "id": "GLLWZa3iefnS",
        "colab": {
          "base_uri": "https://localhost:8080/",
          "height": 206
        },
        "outputId": "ae1250c9-e491-4340-c320-6fa70c554ae2"
      },
      "execution_count": null,
      "outputs": [
        {
          "output_type": "execute_result",
          "data": {
            "text/plain": [
              "   time  frontal_axis  vertical_axis  lateral_axis  id  signal_strangth  \\\n",
              "0  0.00      0.612070       0.904870     -0.013684   3            -60.0   \n",
              "1  1.25      0.612070       0.904870     -0.013684   3            -62.0   \n",
              "2  2.25      0.060972       1.054200      0.020525   2            -66.0   \n",
              "3  3.50      0.318930       0.927840     -0.538220   2            -58.5   \n",
              "4  4.00      0.565170       0.032153     -0.948730   3            -59.5   \n",
              "\n",
              "     phase  frequency  outcomes  \n",
              "0  5.06830     921.75         4  \n",
              "1  6.19570     920.75         4  \n",
              "2  4.69550     925.25         1  \n",
              "3  0.13499     925.75         1  \n",
              "4  4.55440     920.25         3  "
            ],
            "text/html": [
              "\n",
              "  <div id=\"df-ca639424-e5db-4013-abc2-e99bda8bd3b1\">\n",
              "    <div class=\"colab-df-container\">\n",
              "      <div>\n",
              "<style scoped>\n",
              "    .dataframe tbody tr th:only-of-type {\n",
              "        vertical-align: middle;\n",
              "    }\n",
              "\n",
              "    .dataframe tbody tr th {\n",
              "        vertical-align: top;\n",
              "    }\n",
              "\n",
              "    .dataframe thead th {\n",
              "        text-align: right;\n",
              "    }\n",
              "</style>\n",
              "<table border=\"1\" class=\"dataframe\">\n",
              "  <thead>\n",
              "    <tr style=\"text-align: right;\">\n",
              "      <th></th>\n",
              "      <th>time</th>\n",
              "      <th>frontal_axis</th>\n",
              "      <th>vertical_axis</th>\n",
              "      <th>lateral_axis</th>\n",
              "      <th>id</th>\n",
              "      <th>signal_strangth</th>\n",
              "      <th>phase</th>\n",
              "      <th>frequency</th>\n",
              "      <th>outcomes</th>\n",
              "    </tr>\n",
              "  </thead>\n",
              "  <tbody>\n",
              "    <tr>\n",
              "      <th>0</th>\n",
              "      <td>0.00</td>\n",
              "      <td>0.612070</td>\n",
              "      <td>0.904870</td>\n",
              "      <td>-0.013684</td>\n",
              "      <td>3</td>\n",
              "      <td>-60.0</td>\n",
              "      <td>5.06830</td>\n",
              "      <td>921.75</td>\n",
              "      <td>4</td>\n",
              "    </tr>\n",
              "    <tr>\n",
              "      <th>1</th>\n",
              "      <td>1.25</td>\n",
              "      <td>0.612070</td>\n",
              "      <td>0.904870</td>\n",
              "      <td>-0.013684</td>\n",
              "      <td>3</td>\n",
              "      <td>-62.0</td>\n",
              "      <td>6.19570</td>\n",
              "      <td>920.75</td>\n",
              "      <td>4</td>\n",
              "    </tr>\n",
              "    <tr>\n",
              "      <th>2</th>\n",
              "      <td>2.25</td>\n",
              "      <td>0.060972</td>\n",
              "      <td>1.054200</td>\n",
              "      <td>0.020525</td>\n",
              "      <td>2</td>\n",
              "      <td>-66.0</td>\n",
              "      <td>4.69550</td>\n",
              "      <td>925.25</td>\n",
              "      <td>1</td>\n",
              "    </tr>\n",
              "    <tr>\n",
              "      <th>3</th>\n",
              "      <td>3.50</td>\n",
              "      <td>0.318930</td>\n",
              "      <td>0.927840</td>\n",
              "      <td>-0.538220</td>\n",
              "      <td>2</td>\n",
              "      <td>-58.5</td>\n",
              "      <td>0.13499</td>\n",
              "      <td>925.75</td>\n",
              "      <td>1</td>\n",
              "    </tr>\n",
              "    <tr>\n",
              "      <th>4</th>\n",
              "      <td>4.00</td>\n",
              "      <td>0.565170</td>\n",
              "      <td>0.032153</td>\n",
              "      <td>-0.948730</td>\n",
              "      <td>3</td>\n",
              "      <td>-59.5</td>\n",
              "      <td>4.55440</td>\n",
              "      <td>920.25</td>\n",
              "      <td>3</td>\n",
              "    </tr>\n",
              "  </tbody>\n",
              "</table>\n",
              "</div>\n",
              "      <button class=\"colab-df-convert\" onclick=\"convertToInteractive('df-ca639424-e5db-4013-abc2-e99bda8bd3b1')\"\n",
              "              title=\"Convert this dataframe to an interactive table.\"\n",
              "              style=\"display:none;\">\n",
              "        \n",
              "  <svg xmlns=\"http://www.w3.org/2000/svg\" height=\"24px\"viewBox=\"0 0 24 24\"\n",
              "       width=\"24px\">\n",
              "    <path d=\"M0 0h24v24H0V0z\" fill=\"none\"/>\n",
              "    <path d=\"M18.56 5.44l.94 2.06.94-2.06 2.06-.94-2.06-.94-.94-2.06-.94 2.06-2.06.94zm-11 1L8.5 8.5l.94-2.06 2.06-.94-2.06-.94L8.5 2.5l-.94 2.06-2.06.94zm10 10l.94 2.06.94-2.06 2.06-.94-2.06-.94-.94-2.06-.94 2.06-2.06.94z\"/><path d=\"M17.41 7.96l-1.37-1.37c-.4-.4-.92-.59-1.43-.59-.52 0-1.04.2-1.43.59L10.3 9.45l-7.72 7.72c-.78.78-.78 2.05 0 2.83L4 21.41c.39.39.9.59 1.41.59.51 0 1.02-.2 1.41-.59l7.78-7.78 2.81-2.81c.8-.78.8-2.07 0-2.86zM5.41 20L4 18.59l7.72-7.72 1.47 1.35L5.41 20z\"/>\n",
              "  </svg>\n",
              "      </button>\n",
              "      \n",
              "  <style>\n",
              "    .colab-df-container {\n",
              "      display:flex;\n",
              "      flex-wrap:wrap;\n",
              "      gap: 12px;\n",
              "    }\n",
              "\n",
              "    .colab-df-convert {\n",
              "      background-color: #E8F0FE;\n",
              "      border: none;\n",
              "      border-radius: 50%;\n",
              "      cursor: pointer;\n",
              "      display: none;\n",
              "      fill: #1967D2;\n",
              "      height: 32px;\n",
              "      padding: 0 0 0 0;\n",
              "      width: 32px;\n",
              "    }\n",
              "\n",
              "    .colab-df-convert:hover {\n",
              "      background-color: #E2EBFA;\n",
              "      box-shadow: 0px 1px 2px rgba(60, 64, 67, 0.3), 0px 1px 3px 1px rgba(60, 64, 67, 0.15);\n",
              "      fill: #174EA6;\n",
              "    }\n",
              "\n",
              "    [theme=dark] .colab-df-convert {\n",
              "      background-color: #3B4455;\n",
              "      fill: #D2E3FC;\n",
              "    }\n",
              "\n",
              "    [theme=dark] .colab-df-convert:hover {\n",
              "      background-color: #434B5C;\n",
              "      box-shadow: 0px 1px 3px 1px rgba(0, 0, 0, 0.15);\n",
              "      filter: drop-shadow(0px 1px 2px rgba(0, 0, 0, 0.3));\n",
              "      fill: #FFFFFF;\n",
              "    }\n",
              "  </style>\n",
              "\n",
              "      <script>\n",
              "        const buttonEl =\n",
              "          document.querySelector('#df-ca639424-e5db-4013-abc2-e99bda8bd3b1 button.colab-df-convert');\n",
              "        buttonEl.style.display =\n",
              "          google.colab.kernel.accessAllowed ? 'block' : 'none';\n",
              "\n",
              "        async function convertToInteractive(key) {\n",
              "          const element = document.querySelector('#df-ca639424-e5db-4013-abc2-e99bda8bd3b1');\n",
              "          const dataTable =\n",
              "            await google.colab.kernel.invokeFunction('convertToInteractive',\n",
              "                                                     [key], {});\n",
              "          if (!dataTable) return;\n",
              "\n",
              "          const docLinkHtml = 'Like what you see? Visit the ' +\n",
              "            '<a target=\"_blank\" href=https://colab.research.google.com/notebooks/data_table.ipynb>data table notebook</a>'\n",
              "            + ' to learn more about interactive tables.';\n",
              "          element.innerHTML = '';\n",
              "          dataTable['output_type'] = 'display_data';\n",
              "          await google.colab.output.renderOutput(dataTable, element);\n",
              "          const docLink = document.createElement('div');\n",
              "          docLink.innerHTML = docLinkHtml;\n",
              "          element.appendChild(docLink);\n",
              "        }\n",
              "      </script>\n",
              "    </div>\n",
              "  </div>\n",
              "  "
            ]
          },
          "metadata": {},
          "execution_count": 2
        }
      ]
    },
    {
      "cell_type": "code",
      "source": [
        "df.shape"
      ],
      "metadata": {
        "id": "RmoRmbwBfWyz",
        "colab": {
          "base_uri": "https://localhost:8080/"
        },
        "outputId": "4e7023fd-dc36-4f93-d306-32d881f2f153"
      },
      "execution_count": null,
      "outputs": [
        {
          "output_type": "execute_result",
          "data": {
            "text/plain": [
              "(45239, 9)"
            ]
          },
          "metadata": {},
          "execution_count": 3
        }
      ]
    },
    {
      "cell_type": "markdown",
      "source": [
        "# Input data\n"
      ],
      "metadata": {
        "id": "4mH0aQzfYXv3"
      }
    },
    {
      "cell_type": "code",
      "source": [
        "X = df.drop('outcomes', axis = 1)\n",
        "print(X)"
      ],
      "metadata": {
        "id": "RmrOFSGAf1HM",
        "colab": {
          "base_uri": "https://localhost:8080/"
        },
        "outputId": "f774d695-e9d4-486c-c562-cd90c5a4c841"
      },
      "execution_count": null,
      "outputs": [
        {
          "output_type": "stream",
          "name": "stdout",
          "text": [
            "         time  frontal_axis  vertical_axis  lateral_axis  id  signal_strangth  \\\n",
            "0        0.00      0.612070       0.904870     -0.013684   3            -60.0   \n",
            "1        1.25      0.612070       0.904870     -0.013684   3            -62.0   \n",
            "2        2.25      0.060972       1.054200      0.020525   2            -66.0   \n",
            "3        3.50      0.318930       0.927840     -0.538220   2            -58.5   \n",
            "4        4.00      0.565170       0.032153     -0.948730   3            -59.5   \n",
            "...       ...           ...            ...           ...  ..              ...   \n",
            "45234  753.75      0.225130       0.985260      0.031928   1            -49.0   \n",
            "45235  753.83      0.225130       0.985260      0.031928   1            -49.0   \n",
            "45236  753.88      0.225130       0.985260      0.031928   1            -49.0   \n",
            "45237  754.00      0.342380       0.939320      0.157360   1            -51.5   \n",
            "45238  755.25      0.248580       0.985260      0.020525   1            -59.0   \n",
            "\n",
            "         phase  frequency  \n",
            "0      5.06830     921.75  \n",
            "1      6.19570     920.75  \n",
            "2      4.69550     925.25  \n",
            "3      0.13499     925.75  \n",
            "4      4.55440     920.25  \n",
            "...        ...        ...  \n",
            "45234  5.80300     921.75  \n",
            "45235  5.71410     921.75  \n",
            "45236  5.40420     921.75  \n",
            "45237  6.04850     924.25  \n",
            "45238  1.56930     922.25  \n",
            "\n",
            "[45239 rows x 8 columns]\n"
          ]
        }
      ]
    },
    {
      "cell_type": "markdown",
      "source": [
        "# Output Data"
      ],
      "metadata": {
        "id": "pKFo7c7oUvo6"
      }
    },
    {
      "cell_type": "code",
      "source": [
        "Y = df['outcomes']\n",
        "print(Y)"
      ],
      "metadata": {
        "id": "DWhTuVQYgMjt",
        "colab": {
          "base_uri": "https://localhost:8080/"
        },
        "outputId": "5882e411-fe64-46d2-d913-df217944b717"
      },
      "execution_count": null,
      "outputs": [
        {
          "output_type": "stream",
          "name": "stdout",
          "text": [
            "0        4\n",
            "1        4\n",
            "2        1\n",
            "3        1\n",
            "4        3\n",
            "        ..\n",
            "45234    4\n",
            "45235    4\n",
            "45236    4\n",
            "45237    4\n",
            "45238    2\n",
            "Name: outcomes, Length: 45239, dtype: int64\n"
          ]
        }
      ]
    },
    {
      "cell_type": "code",
      "source": [
        "Y.unique()"
      ],
      "metadata": {
        "id": "2fu2Xkyk0BRA",
        "colab": {
          "base_uri": "https://localhost:8080/"
        },
        "outputId": "89a918fa-14e5-4dab-95fa-e14354675795"
      },
      "execution_count": null,
      "outputs": [
        {
          "output_type": "execute_result",
          "data": {
            "text/plain": [
              "array([4, 1, 3, 2])"
            ]
          },
          "metadata": {},
          "execution_count": 6
        }
      ]
    },
    {
      "cell_type": "markdown",
      "source": [
        "# Maping"
      ],
      "metadata": {
        "id": "uv_lyH15U1Sj"
      }
    },
    {
      "cell_type": "code",
      "source": [
        "Y = Y.map({1: 0, 2: 1, 3: 2, 4:3}).astype(str).astype(int)\n",
        "print(Y)"
      ],
      "metadata": {
        "id": "zsKnJuoT4LiZ",
        "colab": {
          "base_uri": "https://localhost:8080/"
        },
        "outputId": "53d9049d-8d8d-46fc-bb56-c618ef19b8d9"
      },
      "execution_count": null,
      "outputs": [
        {
          "output_type": "stream",
          "name": "stdout",
          "text": [
            "0        3\n",
            "1        3\n",
            "2        0\n",
            "3        0\n",
            "4        2\n",
            "        ..\n",
            "45234    3\n",
            "45235    3\n",
            "45236    3\n",
            "45237    3\n",
            "45238    1\n",
            "Name: outcomes, Length: 45239, dtype: int64\n"
          ]
        }
      ]
    },
    {
      "cell_type": "markdown",
      "source": [
        "# Dividing into training and test data"
      ],
      "metadata": {
        "id": "lcOLdUhLVEDn"
      }
    },
    {
      "cell_type": "code",
      "source": [
        "X_train, X_test, Y_train , Y_test = train_test_split(X,Y, test_size=0.3)"
      ],
      "metadata": {
        "id": "lWDoEok_gYov"
      },
      "execution_count": null,
      "outputs": []
    },
    {
      "cell_type": "code",
      "source": [
        "Y_train.shape"
      ],
      "metadata": {
        "id": "n34aYJ4YyQgx",
        "colab": {
          "base_uri": "https://localhost:8080/"
        },
        "outputId": "c466c93f-d9c8-472c-afb0-e8f96e65ce64"
      },
      "execution_count": null,
      "outputs": [
        {
          "output_type": "execute_result",
          "data": {
            "text/plain": [
              "(31667,)"
            ]
          },
          "metadata": {},
          "execution_count": 9
        }
      ]
    },
    {
      "cell_type": "code",
      "source": [
        "Y_train = np_utils.to_categorical(Y_train,num_classes=4)\n",
        "print(Y_train)"
      ],
      "metadata": {
        "id": "3-JwWP8LgmrI",
        "colab": {
          "base_uri": "https://localhost:8080/"
        },
        "outputId": "5ecbe703-2a15-4485-cafe-0ea7e591c242"
      },
      "execution_count": null,
      "outputs": [
        {
          "output_type": "stream",
          "name": "stdout",
          "text": [
            "[[0. 0. 1. 0.]\n",
            " [0. 0. 1. 0.]\n",
            " [0. 0. 1. 0.]\n",
            " ...\n",
            " [0. 0. 1. 0.]\n",
            " [0. 0. 1. 0.]\n",
            " [0. 0. 1. 0.]]\n"
          ]
        }
      ]
    },
    {
      "cell_type": "code",
      "source": [
        "Y_test = np_utils.to_categorical(Y_test,num_classes=4)\n",
        "print(Y_test)"
      ],
      "metadata": {
        "id": "jbDOLSivgq8f",
        "colab": {
          "base_uri": "https://localhost:8080/"
        },
        "outputId": "e9fc8ad8-2e3b-419c-db0a-0e7f5740206e"
      },
      "execution_count": null,
      "outputs": [
        {
          "output_type": "stream",
          "name": "stdout",
          "text": [
            "[[0. 0. 1. 0.]\n",
            " [0. 0. 1. 0.]\n",
            " [0. 0. 1. 0.]\n",
            " ...\n",
            " [0. 0. 1. 0.]\n",
            " [0. 0. 1. 0.]\n",
            " [0. 0. 1. 0.]]\n"
          ]
        }
      ]
    },
    {
      "cell_type": "code",
      "source": [
        "print(Y_train)"
      ],
      "metadata": {
        "id": "aEF0U6adtuwF",
        "colab": {
          "base_uri": "https://localhost:8080/"
        },
        "outputId": "67b3b5ed-ff8a-4bee-f5ad-091e61378a9c"
      },
      "execution_count": null,
      "outputs": [
        {
          "output_type": "stream",
          "name": "stdout",
          "text": [
            "[[0. 0. 1. 0.]\n",
            " [0. 0. 1. 0.]\n",
            " [0. 0. 1. 0.]\n",
            " ...\n",
            " [0. 0. 1. 0.]\n",
            " [0. 0. 1. 0.]\n",
            " [0. 0. 1. 0.]]\n"
          ]
        }
      ]
    },
    {
      "cell_type": "markdown",
      "source": [
        "# Scaling"
      ],
      "metadata": {
        "id": "-nnVMCszVS6v"
      }
    },
    {
      "cell_type": "code",
      "source": [
        "mm = MinMaxScaler(feature_range = (0,1))\n",
        "df = mm.fit_transform(X)"
      ],
      "metadata": {
        "id": "xq77h57MhOqb"
      },
      "execution_count": null,
      "outputs": []
    },
    {
      "cell_type": "markdown",
      "source": [
        "# Model\n",
        "In the Input part we have used 8 neurons and for the hidden layers we have used 50 neurons with relu activation finction and on the output layer we have used 4 neurons with sigmoid activation function."
      ],
      "metadata": {
        "id": "ml3EqOokVVOx"
      }
    },
    {
      "cell_type": "code",
      "source": [
        "model = models.Sequential()\n",
        "model.add(Input(shape = [8,]))\n",
        "\n",
        "model.add(Dense(50 , activation = 'relu'))\n",
        "model.add(Dense(50 , activation = 'relu'))\n",
        "model.add(Dense(50 , activation = 'relu'))\n",
        "model.add(Dense(50 , activation = 'relu'))\n",
        "\n",
        "model.add(Dense(4 , activation = 'sigmoid'))"
      ],
      "metadata": {
        "id": "kEGJWvEaqUn1"
      },
      "execution_count": null,
      "outputs": []
    },
    {
      "cell_type": "markdown",
      "source": [
        "# Compiling the model\n",
        "Here we have ised adam optimizer and categorical_crossentropy as loss function."
      ],
      "metadata": {
        "id": "5JrxLceKV7fx"
      }
    },
    {
      "cell_type": "code",
      "source": [
        "model.compile(optimizer = 'adam', loss='categorical_crossentropy', metrics = ['accuracy'])"
      ],
      "metadata": {
        "id": "Zqhbq3N9rGuf"
      },
      "execution_count": null,
      "outputs": []
    },
    {
      "cell_type": "markdown",
      "source": [
        "# Training the model"
      ],
      "metadata": {
        "id": "DAKxH-moWMly"
      }
    },
    {
      "cell_type": "code",
      "source": [
        "history = model.fit(X_train, Y_train, epochs=50,\n",
        "          validation_data=(X_test, Y_test))"
      ],
      "metadata": {
        "colab": {
          "base_uri": "https://localhost:8080/"
        },
        "id": "VX_EiPuvrbED",
        "outputId": "7a6861ea-8eb0-4717-c5f0-8974d226de6c"
      },
      "execution_count": null,
      "outputs": [
        {
          "output_type": "stream",
          "name": "stdout",
          "text": [
            "Epoch 1/50\n",
            "990/990 [==============================] - 15s 7ms/step - loss: 0.5474 - accuracy: 0.8956 - val_loss: 0.3746 - val_accuracy: 0.9074\n",
            "Epoch 2/50\n",
            "990/990 [==============================] - 6s 6ms/step - loss: 0.3398 - accuracy: 0.9104 - val_loss: 0.2504 - val_accuracy: 0.9142\n",
            "Epoch 3/50\n",
            "990/990 [==============================] - 9s 9ms/step - loss: 0.2049 - accuracy: 0.9383 - val_loss: 0.1310 - val_accuracy: 0.9651\n",
            "Epoch 4/50\n",
            "990/990 [==============================] - 8s 8ms/step - loss: 0.1348 - accuracy: 0.9573 - val_loss: 0.1169 - val_accuracy: 0.9623\n",
            "Epoch 5/50\n",
            "990/990 [==============================] - 5s 5ms/step - loss: 0.1415 - accuracy: 0.9560 - val_loss: 0.1534 - val_accuracy: 0.9485\n",
            "Epoch 6/50\n",
            "990/990 [==============================] - 5s 5ms/step - loss: 0.1275 - accuracy: 0.9588 - val_loss: 0.1032 - val_accuracy: 0.9655\n",
            "Epoch 7/50\n",
            "990/990 [==============================] - 5s 5ms/step - loss: 0.1126 - accuracy: 0.9623 - val_loss: 0.0920 - val_accuracy: 0.9669\n",
            "Epoch 8/50\n",
            "990/990 [==============================] - 5s 5ms/step - loss: 0.1238 - accuracy: 0.9595 - val_loss: 0.0919 - val_accuracy: 0.9665\n",
            "Epoch 9/50\n",
            "990/990 [==============================] - 7s 7ms/step - loss: 0.1095 - accuracy: 0.9632 - val_loss: 0.1067 - val_accuracy: 0.9661\n",
            "Epoch 10/50\n",
            "990/990 [==============================] - 6s 6ms/step - loss: 0.1275 - accuracy: 0.9591 - val_loss: 0.0949 - val_accuracy: 0.9682\n",
            "Epoch 11/50\n",
            "990/990 [==============================] - 6s 6ms/step - loss: 0.1100 - accuracy: 0.9628 - val_loss: 0.1007 - val_accuracy: 0.9671\n",
            "Epoch 12/50\n",
            "990/990 [==============================] - 6s 6ms/step - loss: 0.1131 - accuracy: 0.9637 - val_loss: 0.1003 - val_accuracy: 0.9692\n",
            "Epoch 13/50\n",
            "990/990 [==============================] - 5s 5ms/step - loss: 0.1022 - accuracy: 0.9645 - val_loss: 0.0894 - val_accuracy: 0.9717\n",
            "Epoch 14/50\n",
            "990/990 [==============================] - 7s 7ms/step - loss: 0.1034 - accuracy: 0.9651 - val_loss: 0.1016 - val_accuracy: 0.9621\n",
            "Epoch 15/50\n",
            "990/990 [==============================] - 6s 6ms/step - loss: 0.1141 - accuracy: 0.9626 - val_loss: 0.0862 - val_accuracy: 0.9688\n",
            "Epoch 16/50\n",
            "990/990 [==============================] - 6s 6ms/step - loss: 0.1037 - accuracy: 0.9646 - val_loss: 0.0890 - val_accuracy: 0.9701\n",
            "Epoch 17/50\n",
            "990/990 [==============================] - 5s 5ms/step - loss: 0.1015 - accuracy: 0.9647 - val_loss: 0.0836 - val_accuracy: 0.9699\n",
            "Epoch 18/50\n",
            "990/990 [==============================] - 5s 6ms/step - loss: 0.0966 - accuracy: 0.9673 - val_loss: 0.0828 - val_accuracy: 0.9721\n",
            "Epoch 19/50\n",
            "990/990 [==============================] - 8s 8ms/step - loss: 0.0972 - accuracy: 0.9672 - val_loss: 0.0874 - val_accuracy: 0.9714\n",
            "Epoch 20/50\n",
            "990/990 [==============================] - 5s 5ms/step - loss: 0.0955 - accuracy: 0.9674 - val_loss: 0.0884 - val_accuracy: 0.9716\n",
            "Epoch 21/50\n",
            "990/990 [==============================] - 7s 7ms/step - loss: 0.0920 - accuracy: 0.9690 - val_loss: 0.0729 - val_accuracy: 0.9737\n",
            "Epoch 22/50\n",
            "990/990 [==============================] - 5s 5ms/step - loss: 0.0934 - accuracy: 0.9686 - val_loss: 0.0763 - val_accuracy: 0.9749\n",
            "Epoch 23/50\n",
            "990/990 [==============================] - 6s 6ms/step - loss: 0.0913 - accuracy: 0.9690 - val_loss: 0.1647 - val_accuracy: 0.9572\n",
            "Epoch 24/50\n",
            "990/990 [==============================] - 5s 5ms/step - loss: 0.0950 - accuracy: 0.9692 - val_loss: 0.0837 - val_accuracy: 0.9766\n",
            "Epoch 25/50\n",
            "990/990 [==============================] - 5s 5ms/step - loss: 0.0973 - accuracy: 0.9680 - val_loss: 0.0818 - val_accuracy: 0.9734\n",
            "Epoch 26/50\n",
            "990/990 [==============================] - 6s 6ms/step - loss: 0.0849 - accuracy: 0.9702 - val_loss: 0.0781 - val_accuracy: 0.9728\n",
            "Epoch 27/50\n",
            "990/990 [==============================] - 5s 5ms/step - loss: 0.0848 - accuracy: 0.9714 - val_loss: 0.0758 - val_accuracy: 0.9731\n",
            "Epoch 28/50\n",
            "990/990 [==============================] - 8s 8ms/step - loss: 0.0851 - accuracy: 0.9715 - val_loss: 0.0712 - val_accuracy: 0.9755\n",
            "Epoch 29/50\n",
            "990/990 [==============================] - 6s 6ms/step - loss: 0.0865 - accuracy: 0.9721 - val_loss: 0.0838 - val_accuracy: 0.9737\n",
            "Epoch 30/50\n",
            "990/990 [==============================] - 5s 5ms/step - loss: 0.0859 - accuracy: 0.9712 - val_loss: 0.0758 - val_accuracy: 0.9733\n",
            "Epoch 31/50\n",
            "990/990 [==============================] - 5s 5ms/step - loss: 0.0848 - accuracy: 0.9725 - val_loss: 0.1323 - val_accuracy: 0.9587\n",
            "Epoch 32/50\n",
            "990/990 [==============================] - 5s 5ms/step - loss: 0.0848 - accuracy: 0.9723 - val_loss: 0.0820 - val_accuracy: 0.9720\n",
            "Epoch 33/50\n",
            "990/990 [==============================] - 7s 7ms/step - loss: 0.0801 - accuracy: 0.9737 - val_loss: 0.0686 - val_accuracy: 0.9760\n",
            "Epoch 34/50\n",
            "990/990 [==============================] - 7s 7ms/step - loss: 0.0811 - accuracy: 0.9728 - val_loss: 0.0780 - val_accuracy: 0.9751\n",
            "Epoch 35/50\n",
            "990/990 [==============================] - 5s 5ms/step - loss: 0.0842 - accuracy: 0.9728 - val_loss: 0.0957 - val_accuracy: 0.9709\n",
            "Epoch 36/50\n",
            "990/990 [==============================] - 4s 4ms/step - loss: 0.0788 - accuracy: 0.9734 - val_loss: 0.1129 - val_accuracy: 0.9686\n",
            "Epoch 37/50\n",
            "990/990 [==============================] - 7s 7ms/step - loss: 0.0791 - accuracy: 0.9733 - val_loss: 0.0851 - val_accuracy: 0.9735\n",
            "Epoch 38/50\n",
            "990/990 [==============================] - 5s 5ms/step - loss: 0.0802 - accuracy: 0.9733 - val_loss: 0.0697 - val_accuracy: 0.9814\n",
            "Epoch 39/50\n",
            "990/990 [==============================] - 5s 5ms/step - loss: 0.0747 - accuracy: 0.9753 - val_loss: 0.1177 - val_accuracy: 0.9710\n",
            "Epoch 40/50\n",
            "990/990 [==============================] - 6s 6ms/step - loss: 0.0798 - accuracy: 0.9739 - val_loss: 0.0664 - val_accuracy: 0.9788\n",
            "Epoch 41/50\n",
            "990/990 [==============================] - 5s 5ms/step - loss: 0.0762 - accuracy: 0.9745 - val_loss: 0.0801 - val_accuracy: 0.9752\n",
            "Epoch 42/50\n",
            "990/990 [==============================] - 8s 8ms/step - loss: 0.0765 - accuracy: 0.9751 - val_loss: 0.0653 - val_accuracy: 0.9774\n",
            "Epoch 43/50\n",
            "990/990 [==============================] - 6s 6ms/step - loss: 0.0754 - accuracy: 0.9751 - val_loss: 0.0690 - val_accuracy: 0.9756\n",
            "Epoch 44/50\n",
            "990/990 [==============================] - 6s 6ms/step - loss: 0.0766 - accuracy: 0.9746 - val_loss: 0.0613 - val_accuracy: 0.9784\n",
            "Epoch 45/50\n",
            "990/990 [==============================] - 5s 5ms/step - loss: 0.0756 - accuracy: 0.9747 - val_loss: 0.0680 - val_accuracy: 0.9793\n",
            "Epoch 46/50\n",
            "990/990 [==============================] - 5s 5ms/step - loss: 0.0737 - accuracy: 0.9757 - val_loss: 0.0592 - val_accuracy: 0.9794\n",
            "Epoch 47/50\n",
            "990/990 [==============================] - 7s 7ms/step - loss: 0.0726 - accuracy: 0.9764 - val_loss: 0.0958 - val_accuracy: 0.9729\n",
            "Epoch 48/50\n",
            "990/990 [==============================] - 5s 5ms/step - loss: 0.0765 - accuracy: 0.9744 - val_loss: 0.0598 - val_accuracy: 0.9790\n",
            "Epoch 49/50\n",
            "990/990 [==============================] - 6s 6ms/step - loss: 0.0735 - accuracy: 0.9755 - val_loss: 0.0823 - val_accuracy: 0.9748\n",
            "Epoch 50/50\n",
            "990/990 [==============================] - 5s 5ms/step - loss: 0.0747 - accuracy: 0.9753 - val_loss: 0.0790 - val_accuracy: 0.9749\n"
          ]
        }
      ]
    },
    {
      "cell_type": "code",
      "source": [
        "plt.plot(history.history['accuracy'], label='accuracy')\n",
        "plt.plot(history.history['val_accuracy'], label='val_accuracy')\n",
        "plt.xlabel('Epoch')\n",
        "plt.ylabel('Accuracy')\n",
        "plt.legend(loc='lower right')"
      ],
      "metadata": {
        "id": "B9N9KHR3shRY",
        "colab": {
          "base_uri": "https://localhost:8080/",
          "height": 467
        },
        "outputId": "190d8b6c-1fb5-4372-93e8-6455c46711f6"
      },
      "execution_count": null,
      "outputs": [
        {
          "output_type": "execute_result",
          "data": {
            "text/plain": [
              "<matplotlib.legend.Legend at 0x7f4d32b41fc0>"
            ]
          },
          "metadata": {},
          "execution_count": 17
        },
        {
          "output_type": "display_data",
          "data": {
            "text/plain": [
              "<Figure size 640x480 with 1 Axes>"
            ],
            "image/png": "[encoded data removed]"
          },
          "metadata": {}
        }
      ]
    },
    {
      "cell_type": "code",
      "source": [
        "plt.plot(history.history['loss'], label='loss')\n",
        "plt.xlabel('Epoch')\n",
        "plt.ylabel('loss')\n",
        "plt.legend(loc='upper right')"
      ],
      "metadata": {
        "colab": {
          "base_uri": "https://localhost:8080/",
          "height": 467
        },
        "id": "OVtx0OVX7mDi",
        "outputId": "40731e57-89ca-4f95-8daf-bf00aca2e940"
      },
      "execution_count": null,
      "outputs": [
        {
          "output_type": "execute_result",
          "data": {
            "text/plain": [
              "<matplotlib.legend.Legend at 0x7f4d32a782e0>"
            ]
          },
          "metadata": {},
          "execution_count": 18
        },
        {
          "output_type": "display_data",
          "data": {
            "text/plain": [
              "<Figure size 640x480 with 1 Axes>"
            ],
            "image/png": "[encoded data removed]"
          },
          "metadata": {}
        }
      ]
    },
    {
      "cell_type": "code",
      "source": [
        "from sklearn.metrics import accuracy_score"
      ],
      "metadata": {
        "id": "uTJ7esI-7oxg"
      },
      "execution_count": null,
      "outputs": []
    },
    {
      "cell_type": "code",
      "source": [
        "y_prediction = model.predict(X_test)"
      ],
      "metadata": {
        "id": "7j7aTySO7uuJ",
        "colab": {
          "base_uri": "https://localhost:8080/"
        },
        "outputId": "452074c8-2d44-4e24-d755-229fbfde8a24"
      },
      "execution_count": null,
      "outputs": [
        {
          "output_type": "stream",
          "name": "stdout",
          "text": [
            "425/425 [==============================] - 2s 3ms/step\n"
          ]
        }
      ]
    },
    {
      "cell_type": "code",
      "source": [
        "y_prediction = np.around(y_prediction)"
      ],
      "metadata": {
        "id": "_9Q6EnoIWcS_"
      },
      "execution_count": null,
      "outputs": []
    },
    {
      "cell_type": "markdown",
      "source": [
        "# Accuracy Score"
      ],
      "metadata": {
        "id": "W8xMgbh1WpZY"
      }
    },
    {
      "cell_type": "code",
      "source": [
        "accuracy_score(Y_test,y_prediction) *100"
      ],
      "metadata": {
        "colab": {
          "base_uri": "https://localhost:8080/"
        },
        "id": "yQ-p53mUWeg-",
        "outputId": "61ecd3a5-553d-4267-9d8d-71c977f0750d"
      },
      "execution_count": null,
      "outputs": [
        {
          "output_type": "execute_result",
          "data": {
            "text/plain": [
              "92.02770409666961"
            ]
          },
          "metadata": {},
          "execution_count": 22
        }
      ]
    },
    {
      "cell_type": "code",
      "source": [],
      "metadata": {
        "id": "fnnedSdIWgUv"
      },
      "execution_count": null,
      "outputs": []
    }
  ]
}